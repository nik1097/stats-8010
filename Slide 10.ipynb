{
 "cells": [
  {
   "cell_type": "markdown",
   "metadata": {},
   "source": [
    "## Linear Regression"
   ]
  },
  {
   "cell_type": "markdown",
   "metadata": {},
   "source": [
    "se = B0; sxx = B0,0"
   ]
  },
  {
   "cell_type": "code",
   "execution_count": 49,
   "metadata": {},
   "outputs": [],
   "source": [
    "import numpy as np\n",
    "import statistics as stat\n",
    "import math"
   ]
  },
  {
   "cell_type": "code",
   "execution_count": 50,
   "metadata": {},
   "outputs": [],
   "source": [
    "a = '20 20 20 43 68 7.5 7 8 9 10'\n",
    "b = '1.10 1.06 1.04 4.94 10.37 -0.50 -1.38 -0.72 -0.99 -0.68'"
   ]
  },
  {
   "cell_type": "code",
   "execution_count": 51,
   "metadata": {},
   "outputs": [],
   "source": [
    "def to_array(a):\n",
    "    val = []\n",
    "    for i in a.split(' '):\n",
    "        val.append(float(i))\n",
    "    return val"
   ]
  },
  {
   "cell_type": "code",
   "execution_count": 52,
   "metadata": {},
   "outputs": [],
   "source": [
    "a = np.array(to_array(a))\n",
    "n1 = len(a)\n",
    "b = np.array(to_array(b))\n",
    "n2 = len(b)"
   ]
  },
  {
   "cell_type": "code",
   "execution_count": 53,
   "metadata": {},
   "outputs": [
    {
     "data": {
      "text/plain": [
       "(3507.625, 644.1000000000001, 119.19324)"
      ]
     },
     "execution_count": 53,
     "metadata": {},
     "output_type": "execute_result"
    }
   ],
   "source": [
    "sxx = sum((a - stat.mean(a)) ** 2)\n",
    "sxy = sum(a * b) - (sum(a) * sum(b) / n1)\n",
    "syy = sum(b ** 2) - (sum(b) ** 2 / n2)\n",
    "sxx, sxy, syy"
   ]
  },
  {
   "cell_type": "code",
   "execution_count": 54,
   "metadata": {},
   "outputs": [
    {
     "data": {
      "text/plain": [
       "0.9922973151311568"
      ]
     },
     "execution_count": 54,
     "metadata": {},
     "output_type": "execute_result"
    }
   ],
   "source": [
    "r = sxy / math.sqrt(sxx * syy) # check if r is greater than 0\n",
    "r2 = r ** 2\n",
    "r2 # proportion of y explained by x"
   ]
  },
  {
   "cell_type": "code",
   "execution_count": 55,
   "metadata": {},
   "outputs": [
    {
     "data": {
      "text/plain": [
       "0.18362852357364318"
      ]
     },
     "execution_count": 55,
     "metadata": {},
     "output_type": "execute_result"
    }
   ],
   "source": [
    "B1 = sxy / sxx\n",
    "B1"
   ]
  },
  {
   "cell_type": "code",
   "execution_count": 56,
   "metadata": {},
   "outputs": [
    {
     "data": {
      "text/plain": [
       "-2.4781061259399175"
      ]
     },
     "execution_count": 56,
     "metadata": {},
     "output_type": "execute_result"
    }
   ],
   "source": [
    "B0 = stat.mean(b) - (stat.mean(a) * B1)\n",
    "B0"
   ]
  },
  {
   "cell_type": "markdown",
   "metadata": {},
   "source": [
    "### wt(Ht) = B0 + B1(Ht)"
   ]
  },
  {
   "cell_type": "code",
   "execution_count": 57,
   "metadata": {},
   "outputs": [
    {
     "data": {
      "text/plain": [
       "0.1147634957770492"
      ]
     },
     "execution_count": 57,
     "metadata": {},
     "output_type": "execute_result"
    }
   ],
   "source": [
    "s2e = ((1 - r2) * syy) / (n1 - 2)\n",
    "s2e"
   ]
  },
  {
   "cell_type": "code",
   "execution_count": 58,
   "metadata": {},
   "outputs": [
    {
     "data": {
      "text/plain": [
       "32.10294216840634"
      ]
     },
     "execution_count": 58,
     "metadata": {},
     "output_type": "execute_result"
    }
   ],
   "source": [
    "t1 = math.sqrt(s2e) / math.sqrt(sxx)\n",
    "t = B1 / t1\n",
    "t"
   ]
  },
  {
   "cell_type": "code",
   "execution_count": 59,
   "metadata": {},
   "outputs": [],
   "source": [
    "alpha = 0.05\n",
    "df = n1 - 2"
   ]
  },
  {
   "cell_type": "code",
   "execution_count": 60,
   "metadata": {},
   "outputs": [
    {
     "data": {
      "text/plain": [
       "2.3060041350333704"
      ]
     },
     "execution_count": 60,
     "metadata": {},
     "output_type": "execute_result"
    }
   ],
   "source": [
    "from scipy.stats import t\n",
    "t.ppf(1 - (alpha/2), df)"
   ]
  },
  {
   "cell_type": "markdown",
   "metadata": {},
   "source": [
    "#### Confidence Interval"
   ]
  },
  {
   "cell_type": "code",
   "execution_count": 61,
   "metadata": {},
   "outputs": [
    {
     "name": "stdout",
     "output_type": "stream",
     "text": [
      "x0: 55 ,  y0:7.621462670610458, LCL:7.157617678660197, HCL:8.08530766256072\n"
     ]
    }
   ],
   "source": [
    "x0 = 55 # will be provided in the question, x0 = CI for mean at a value (x0)\n",
    "y0 = B0 + (B1*x0)\n",
    "LCL = y0 - (t.ppf(1 - (alpha/2), ((n1+n2)-2))* math.sqrt(s2e) *(math.sqrt( (1 / n1) + ((x0 - stat.mean(a) )**2 / sxx))))\n",
    "HCL = y0 + (t.ppf(1 - (alpha/2), ((n1+n2)-2))* math.sqrt(s2e) *(math.sqrt( (1 / n1) + ((x0 - stat.mean(a) )**2 / sxx))))\n",
    "\n",
    "print(f'x0: {x0} ,  y0:{y0}, LCL:{LCL}, HCL:{HCL}')"
   ]
  },
  {
   "cell_type": "code",
   "execution_count": null,
   "metadata": {},
   "outputs": [],
   "source": []
  }
 ],
 "metadata": {
  "interpreter": {
   "hash": "5a03e6978a913b76a01264f69485476c06bb2afb04825931e6a903524ca57e27"
  },
  "kernelspec": {
   "display_name": "Python 3.8.3 ('base')",
   "language": "python",
   "name": "python3"
  },
  "language_info": {
   "codemirror_mode": {
    "name": "ipython",
    "version": 3
   },
   "file_extension": ".py",
   "mimetype": "text/x-python",
   "name": "python",
   "nbconvert_exporter": "python",
   "pygments_lexer": "ipython3",
   "version": "3.8.3"
  },
  "orig_nbformat": 4
 },
 "nbformat": 4,
 "nbformat_minor": 2
}
