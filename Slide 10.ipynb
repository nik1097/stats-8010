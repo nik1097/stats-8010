{
 "cells": [
  {
   "cell_type": "markdown",
   "metadata": {},
   "source": [
    "## Linear Regression"
   ]
  },
  {
   "cell_type": "code",
   "execution_count": 1,
   "metadata": {},
   "outputs": [],
   "source": [
    "import numpy as np\n",
    "import statistics as stat\n",
    "import math"
   ]
  },
  {
   "cell_type": "code",
   "execution_count": 2,
   "metadata": {},
   "outputs": [],
   "source": [
    "a = '69 56.5 65.3 62.8 63.5 57.3 59.8 62.5 62.5 59 51.3 64.3 56.3 66.5 72 64.8 67 57.5 66.5'\n",
    "b = '112.5 84 98 102.5 102.5 83 84.5 112.5 84 99.5 50.5 90 77 112 150 128 133 85 112'"
   ]
  },
  {
   "cell_type": "code",
   "execution_count": 3,
   "metadata": {},
   "outputs": [],
   "source": [
    "def to_array(a):\n",
    "    val = []\n",
    "    for i in a.split(' '):\n",
    "        val.append(float(i))\n",
    "    return val"
   ]
  },
  {
   "cell_type": "code",
   "execution_count": 4,
   "metadata": {},
   "outputs": [],
   "source": [
    "a = np.array(to_array(a))\n",
    "n1 = len(a)\n",
    "b = np.array(to_array(b))\n",
    "n2 = len(b)"
   ]
  },
  {
   "cell_type": "code",
   "execution_count": 5,
   "metadata": {},
   "outputs": [],
   "source": [
    "sxx = sum((a - stat.mean(a)) ** 2)\n",
    "sxy = sum(a * b) - (sum(a) * sum(b) / n1)\n",
    "syy = sum(b ** 2) - (sum(b) ** 2 / n2)"
   ]
  },
  {
   "cell_type": "code",
   "execution_count": 6,
   "metadata": {},
   "outputs": [
    {
     "data": {
      "text/plain": [
       "0.7705068427159913"
      ]
     },
     "execution_count": 6,
     "metadata": {},
     "output_type": "execute_result"
    }
   ],
   "source": [
    "r = sxy / math.sqrt(sxx * syy)\n",
    "r2 = r ** 2\n",
    "r2"
   ]
  },
  {
   "cell_type": "code",
   "execution_count": 7,
   "metadata": {},
   "outputs": [
    {
     "data": {
      "text/plain": [
       "3.8990302687839953"
      ]
     },
     "execution_count": 7,
     "metadata": {},
     "output_type": "execute_result"
    }
   ],
   "source": [
    "B1 = sxy / sxx\n",
    "B1"
   ]
  },
  {
   "cell_type": "code",
   "execution_count": 8,
   "metadata": {},
   "outputs": [
    {
     "data": {
      "text/plain": [
       "-143.026918439356"
      ]
     },
     "execution_count": 8,
     "metadata": {},
     "output_type": "execute_result"
    }
   ],
   "source": [
    "B0 = stat.mean(b) - (stat.mean(a) * B1)\n",
    "B0"
   ]
  },
  {
   "cell_type": "markdown",
   "metadata": {},
   "source": [
    "### wt(Ht) = B0 + B1(Ht)"
   ]
  },
  {
   "cell_type": "code",
   "execution_count": 9,
   "metadata": {},
   "outputs": [
    {
     "data": {
      "text/plain": [
       "126.02868961572794"
      ]
     },
     "execution_count": 9,
     "metadata": {},
     "output_type": "execute_result"
    }
   ],
   "source": [
    "s2e = ((1 - r2) * syy) / (n1 - 2)\n",
    "s2e"
   ]
  },
  {
   "cell_type": "code",
   "execution_count": 10,
   "metadata": {},
   "outputs": [
    {
     "data": {
      "text/plain": [
       "7.554884692332599"
      ]
     },
     "execution_count": 10,
     "metadata": {},
     "output_type": "execute_result"
    }
   ],
   "source": [
    "t1 = math.sqrt(s2e) / math.sqrt(sxx)\n",
    "t = B1 / t1\n",
    "t"
   ]
  },
  {
   "cell_type": "code",
   "execution_count": 14,
   "metadata": {},
   "outputs": [],
   "source": [
    "alpha = 0.05\n",
    "df = n1 - 2"
   ]
  },
  {
   "cell_type": "code",
   "execution_count": 15,
   "metadata": {},
   "outputs": [
    {
     "data": {
      "text/plain": [
       "2.1098155778331806"
      ]
     },
     "execution_count": 15,
     "metadata": {},
     "output_type": "execute_result"
    }
   ],
   "source": [
    "from scipy.stats import t\n",
    "t.ppf(1 - (alpha/2), df)"
   ]
  },
  {
   "cell_type": "markdown",
   "metadata": {},
   "source": [
    "#### Confidence Interval"
   ]
  },
  {
   "cell_type": "code",
   "execution_count": 16,
   "metadata": {},
   "outputs": [
    {
     "name": "stdout",
     "output_type": "stream",
     "text": [
      "x0: 67 ,  y0:118.20810956917171, LCL:111.05927378359199, HCL:125.35694535475143\n"
     ]
    }
   ],
   "source": [
    "x0 = 67 # will be provided in the question, x0 = CI for mean at a value (x0)\n",
    "y0 = B0 + (B1*x0)\n",
    "LCL = y0 - (t.ppf(1 - (alpha/2), ((n1+n2)-2))* math.sqrt(s2e) *(math.sqrt( (1 / n1) + ((x0 - stat.mean(a) )**2 / sxx))))\n",
    "HCL = y0 + (t.ppf(1 - (alpha/2), ((n1+n2)-2))* math.sqrt(s2e) *(math.sqrt( (1 / n1) + ((x0 - stat.mean(a) )**2 / sxx))))\n",
    "\n",
    "print(f'x0: {x0} ,  y0:{y0}, LCL:{LCL}, HCL:{HCL}')"
   ]
  },
  {
   "cell_type": "code",
   "execution_count": null,
   "metadata": {},
   "outputs": [],
   "source": []
  }
 ],
 "metadata": {
  "interpreter": {
   "hash": "5a03e6978a913b76a01264f69485476c06bb2afb04825931e6a903524ca57e27"
  },
  "kernelspec": {
   "display_name": "Python 3.8.3 ('base')",
   "language": "python",
   "name": "python3"
  },
  "language_info": {
   "codemirror_mode": {
    "name": "ipython",
    "version": 3
   },
   "file_extension": ".py",
   "mimetype": "text/x-python",
   "name": "python",
   "nbconvert_exporter": "python",
   "pygments_lexer": "ipython3",
   "version": "3.8.3"
  },
  "orig_nbformat": 4
 },
 "nbformat": 4,
 "nbformat_minor": 2
}
